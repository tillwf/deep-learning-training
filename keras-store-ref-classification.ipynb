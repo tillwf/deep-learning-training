{
 "cells": [
  {
   "cell_type": "markdown",
   "metadata": {},
   "source": [
    "# Setup the database"
   ]
  },
  {
   "cell_type": "code",
   "execution_count": 1,
   "metadata": {},
   "outputs": [
    {
     "name": "stdout",
     "output_type": "stream",
     "text": [
      "2.0.0-alpha0\n"
     ]
    }
   ],
   "source": [
    "from __future__ import absolute_import, division, print_function\n",
    "\n",
    "import tensorflow as tf\n",
    "from tensorflow import keras\n",
    "\n",
    "import cv2\n",
    "import glob\n",
    "import numpy as np\n",
    "import os\n",
    "import pandas as pd\n",
    "\n",
    "print(tf.__version__)"
   ]
  },
  {
   "cell_type": "code",
   "execution_count": 2,
   "metadata": {},
   "outputs": [],
   "source": [
    "IMAGE_FOLDER = \"/mnt/cache/mongo\"\n",
    "IMAGE_SHAPE = (32, 32)"
   ]
  },
  {
   "cell_type": "code",
   "execution_count": 3,
   "metadata": {},
   "outputs": [],
   "source": [
    "from nltk.corpus import stopwords\n",
    "stop = stopwords.words('french')"
   ]
  },
  {
   "cell_type": "code",
   "execution_count": 7,
   "metadata": {},
   "outputs": [],
   "source": [
    "store_references = pd.read_csv(\"/mnt/cache/store_references.csv\")"
   ]
  },
  {
   "cell_type": "code",
   "execution_count": 8,
   "metadata": {},
   "outputs": [],
   "source": [
    "import ast\n",
    "def get_first_node(x):\n",
    "    try:\n",
    "        return ast.literal_eval(x)[0]\n",
    "    except:\n",
    "        return None"
   ]
  },
  {
   "cell_type": "code",
   "execution_count": 9,
   "metadata": {},
   "outputs": [],
   "source": [
    "store_references['first_node'] = store_references['classification.v0_3.node_ids'].apply(get_first_node)"
   ]
  },
  {
   "cell_type": "code",
   "execution_count": 10,
   "metadata": {},
   "outputs": [
    {
     "data": {
      "text/html": [
       "<div>\n",
       "<style>\n",
       "    .dataframe thead tr:only-child th {\n",
       "        text-align: right;\n",
       "    }\n",
       "\n",
       "    .dataframe thead th {\n",
       "        text-align: left;\n",
       "    }\n",
       "\n",
       "    .dataframe tbody tr th {\n",
       "        vertical-align: top;\n",
       "    }\n",
       "</style>\n",
       "<table border=\"1\" class=\"dataframe\">\n",
       "  <thead>\n",
       "    <tr style=\"text-align: right;\">\n",
       "      <th></th>\n",
       "      <th>_id</th>\n",
       "      <th>brand_name</th>\n",
       "      <th>label</th>\n",
       "      <th>packaging</th>\n",
       "      <th>classification.v0_3.node_ids</th>\n",
       "      <th>classification.v0_3.classified_by</th>\n",
       "      <th>first_node</th>\n",
       "    </tr>\n",
       "  </thead>\n",
       "  <tbody>\n",
       "    <tr>\n",
       "      <th>0</th>\n",
       "      <td>ObjectId(51d2c538c0569c851c000002)</td>\n",
       "      <td>Mentos</td>\n",
       "      <td>Chewing-gum Full Ice menthe réglisse sans sucres</td>\n",
       "      <td>la boite de 50 - 100 g</td>\n",
       "      <td>[\"node-epicerie-sucree\",\"node-confiseries\",\"no...</td>\n",
       "      <td>admin</td>\n",
       "      <td>node-epicerie-sucree</td>\n",
       "    </tr>\n",
       "    <tr>\n",
       "      <th>1</th>\n",
       "      <td>ObjectId(51d2c538c0569c851c000003)</td>\n",
       "      <td>Mentos</td>\n",
       "      <td>Bonbons tendres dragéifiés Fruit</td>\n",
       "      <td>les 4 rouleaux de 38 g</td>\n",
       "      <td>[\"node-epicerie-sucree\",\"node-confiseries\",\"no...</td>\n",
       "      <td>admin</td>\n",
       "      <td>node-epicerie-sucree</td>\n",
       "    </tr>\n",
       "    <tr>\n",
       "      <th>2</th>\n",
       "      <td>ObjectId(51d2c538c0569c851c000005)</td>\n",
       "      <td>Glen Grant</td>\n",
       "      <td>Scotch whisky single malt</td>\n",
       "      <td>la bouteille de 70 cl</td>\n",
       "      <td>[\"node-boissons\",\"node-spiritueux\",\"node-eaux-...</td>\n",
       "      <td>admin</td>\n",
       "      <td>node-boissons</td>\n",
       "    </tr>\n",
       "    <tr>\n",
       "      <th>3</th>\n",
       "      <td>ObjectId(51d2c538c0569c851c000006)</td>\n",
       "      <td>Alsa</td>\n",
       "      <td>Gâteau de semoule nappé de caramel</td>\n",
       "      <td>la boite de 414 g</td>\n",
       "      <td>[\"node-epicerie-sucree\",\"node-aides-patisserie...</td>\n",
       "      <td>ClassificationEngine</td>\n",
       "      <td>node-epicerie-sucree</td>\n",
       "    </tr>\n",
       "    <tr>\n",
       "      <th>4</th>\n",
       "      <td>ObjectId(51d2c538c0569c851c000009)</td>\n",
       "      <td>Dillon</td>\n",
       "      <td>Rhum blanc agricole Martinique</td>\n",
       "      <td>la bouteille de 100 cl</td>\n",
       "      <td>[\"node-boissons\",\"node-spiritueux\",\"node-eaux-...</td>\n",
       "      <td>admin</td>\n",
       "      <td>node-boissons</td>\n",
       "    </tr>\n",
       "  </tbody>\n",
       "</table>\n",
       "</div>"
      ],
      "text/plain": [
       "                                  _id  brand_name  \\\n",
       "0  ObjectId(51d2c538c0569c851c000002)      Mentos   \n",
       "1  ObjectId(51d2c538c0569c851c000003)      Mentos   \n",
       "2  ObjectId(51d2c538c0569c851c000005)  Glen Grant   \n",
       "3  ObjectId(51d2c538c0569c851c000006)        Alsa   \n",
       "4  ObjectId(51d2c538c0569c851c000009)      Dillon   \n",
       "\n",
       "                                              label               packaging  \\\n",
       "0  Chewing-gum Full Ice menthe réglisse sans sucres  la boite de 50 - 100 g   \n",
       "1                  Bonbons tendres dragéifiés Fruit  les 4 rouleaux de 38 g   \n",
       "2                         Scotch whisky single malt   la bouteille de 70 cl   \n",
       "3                Gâteau de semoule nappé de caramel       la boite de 414 g   \n",
       "4                    Rhum blanc agricole Martinique  la bouteille de 100 cl   \n",
       "\n",
       "                        classification.v0_3.node_ids  \\\n",
       "0  [\"node-epicerie-sucree\",\"node-confiseries\",\"no...   \n",
       "1  [\"node-epicerie-sucree\",\"node-confiseries\",\"no...   \n",
       "2  [\"node-boissons\",\"node-spiritueux\",\"node-eaux-...   \n",
       "3  [\"node-epicerie-sucree\",\"node-aides-patisserie...   \n",
       "4  [\"node-boissons\",\"node-spiritueux\",\"node-eaux-...   \n",
       "\n",
       "  classification.v0_3.classified_by            first_node  \n",
       "0                             admin  node-epicerie-sucree  \n",
       "1                             admin  node-epicerie-sucree  \n",
       "2                             admin         node-boissons  \n",
       "3              ClassificationEngine  node-epicerie-sucree  \n",
       "4                             admin         node-boissons  "
      ]
     },
     "execution_count": 10,
     "metadata": {},
     "output_type": "execute_result"
    }
   ],
   "source": [
    "store_references.head()"
   ]
  },
  {
   "cell_type": "code",
   "execution_count": 11,
   "metadata": {},
   "outputs": [],
   "source": [
    "store_references_filtered = store_references.dropna().set_index(\"_id\")"
   ]
  },
  {
   "cell_type": "code",
   "execution_count": 12,
   "metadata": {},
   "outputs": [],
   "source": [
    "# Filter the references based on the file we have\n",
    "images_files = glob.glob(\"{}/*.jpg\".format(IMAGE_FOLDER))\n",
    "\n",
    "def get_file_path(oid):\n",
    "    return \"{}/{}.jpg\".format(IMAGE_FOLDER, oid)\n",
    "\n",
    "def file_exists(oid):\n",
    "    filename = get_file_path(oid)\n",
    "    return os.path.isfile(filename)\n",
    "\n",
    "def get_image_array(oid):\n",
    "    filename = get_file_path(oid)\n",
    "    if file_exists(oid):\n",
    "        try:\n",
    "            return np.array(cv2.resize(cv2.imread(filename), IMAGE_SHAPE) / 255)\n",
    "        except Exception as e:\n",
    "            return pd.np.array()\n",
    "        \n",
    "def is_valid_image(oid):\n",
    "    filename = get_file_path(oid)\n",
    "    if file_exists(oid):\n",
    "        try:\n",
    "            np.array(cv2.resize(cv2.imread(filename), IMAGE_SHAPE) / 255)\n",
    "            return True\n",
    "        except Exception as e:\n",
    "            return False"
   ]
  },
  {
   "cell_type": "code",
   "execution_count": 13,
   "metadata": {},
   "outputs": [
    {
     "data": {
      "text/plain": [
       "(427908, 6)"
      ]
     },
     "execution_count": 13,
     "metadata": {},
     "output_type": "execute_result"
    }
   ],
   "source": [
    "store_references_filtered.shape"
   ]
  },
  {
   "cell_type": "code",
   "execution_count": 14,
   "metadata": {},
   "outputs": [],
   "source": [
    "# We remove references which have no picture\n",
    "store_references_filtered['has_file'] = store_references_filtered.index.map(file_exists)\n",
    "store_references_filtered = store_references_filtered[store_references_filtered['has_file']]\n",
    "store_references_filtered['filepath'] = store_references_filtered.index.map(get_file_path)\n",
    "\n",
    "# Remove very small categories\n",
    "store_references_filtered = store_references_filtered[~store_references_filtered.first_node.isin([\n",
    "    \"node-junk\",\n",
    "    \"node-cuisine-ustensiles\",\n",
    "    \"node-glacons\",\n",
    "    \"node-outillage\",\n",
    "    \"node-peinture-droguerie\"\n",
    "])]"
   ]
  },
  {
   "cell_type": "code",
   "execution_count": 15,
   "metadata": {},
   "outputs": [
    {
     "data": {
      "text/plain": [
       "(261711, 8)"
      ]
     },
     "execution_count": 15,
     "metadata": {},
     "output_type": "execute_result"
    }
   ],
   "source": [
    "store_references_filtered.shape"
   ]
  },
  {
   "cell_type": "code",
   "execution_count": 16,
   "metadata": {},
   "outputs": [],
   "source": [
    "# Remove store references which have invalid pictures\n",
    "# Time consuming\n",
    "store_references_filtered['is_valid'] = store_references_filtered.index.map(is_valid_image)"
   ]
  },
  {
   "cell_type": "code",
   "execution_count": 17,
   "metadata": {},
   "outputs": [
    {
     "data": {
      "text/plain": [
       "226602"
      ]
     },
     "execution_count": 17,
     "metadata": {},
     "output_type": "execute_result"
    }
   ],
   "source": [
    "store_references_filtered.is_valid.sum()"
   ]
  },
  {
   "cell_type": "code",
   "execution_count": 18,
   "metadata": {},
   "outputs": [],
   "source": [
    "store_references_filtered = store_references_filtered[store_references_filtered['is_valid']]"
   ]
  },
  {
   "cell_type": "code",
   "execution_count": 19,
   "metadata": {},
   "outputs": [
    {
     "data": {
      "text/plain": [
       "(226602, 9)"
      ]
     },
     "execution_count": 19,
     "metadata": {},
     "output_type": "execute_result"
    }
   ],
   "source": [
    "store_references_filtered.shape"
   ]
  },
  {
   "cell_type": "code",
   "execution_count": 20,
   "metadata": {},
   "outputs": [],
   "source": [
    "store_references_filtered['first_node'] = pd.Categorical(store_references_filtered['first_node'])\n",
    "store_references_filtered['fn'] = store_references_filtered['first_node'].cat.codes\n",
    "class_names = store_references_filtered['first_node'].cat.categories"
   ]
  },
  {
   "cell_type": "code",
   "execution_count": 21,
   "metadata": {},
   "outputs": [
    {
     "data": {
      "text/plain": [
       "Index(['node-animaux', 'node-bazar', 'node-bebe', 'node-boissons',\n",
       "       'node-entretien-nettoyage', 'node-epicerie-salee',\n",
       "       'node-epicerie-sucree', 'node-hygiene-beaute', 'node-produits-frais',\n",
       "       'node-surgele'],\n",
       "      dtype='object')"
      ]
     },
     "execution_count": 21,
     "metadata": {},
     "output_type": "execute_result"
    }
   ],
   "source": [
    "class_names"
   ]
  },
  {
   "cell_type": "code",
   "execution_count": 23,
   "metadata": {},
   "outputs": [
    {
     "data": {
      "text/plain": [
       "array([6, 3, 9, 7, 5, 8, 2, 4, 1, 0])"
      ]
     },
     "execution_count": 23,
     "metadata": {},
     "output_type": "execute_result"
    }
   ],
   "source": [
    "store_references_filtered['fn'].unique()"
   ]
  },
  {
   "cell_type": "code",
   "execution_count": 24,
   "metadata": {},
   "outputs": [],
   "source": [
    "X = store_references_filtered[['label', 'first_node', 'fn', 'filepath']]\n",
    "y = store_references_filtered[['fn']]"
   ]
  },
  {
   "cell_type": "code",
   "execution_count": 25,
   "metadata": {},
   "outputs": [],
   "source": [
    "from sklearn.model_selection import train_test_split\n",
    "X_train, X_test, train_labels, test_labels = train_test_split(X, y, test_size=0.33, random_state=42)"
   ]
  },
  {
   "cell_type": "code",
   "execution_count": 26,
   "metadata": {},
   "outputs": [
    {
     "data": {
      "text/plain": [
       "10"
      ]
     },
     "execution_count": 26,
     "metadata": {},
     "output_type": "execute_result"
    }
   ],
   "source": [
    "len(X_train.first_node.unique())"
   ]
  },
  {
   "cell_type": "code",
   "execution_count": 27,
   "metadata": {},
   "outputs": [
    {
     "data": {
      "text/plain": [
       "10"
      ]
     },
     "execution_count": 27,
     "metadata": {},
     "output_type": "execute_result"
    }
   ],
   "source": [
    "len(X_test.first_node.unique())"
   ]
  },
  {
   "cell_type": "markdown",
   "metadata": {},
   "source": [
    "### Deep learning classification using textual informations"
   ]
  },
  {
   "cell_type": "code",
   "execution_count": 28,
   "metadata": {},
   "outputs": [],
   "source": [
    "from sklearn.feature_extraction.text import CountVectorizer\n",
    "vectorizer = CountVectorizer(\n",
    "    strip_accents=\"unicode\",\n",
    "    stop_words=stop,\n",
    "    ngram_range=(1,1),\n",
    "    analyzer=\"word\")\n",
    "vectorizer.fit(X_train['label'])\n",
    "\n",
    "train_data = vectorizer.transform(X_train['label'])\n",
    "test_data = vectorizer.transform(X_test['label'])"
   ]
  },
  {
   "cell_type": "code",
   "execution_count": 29,
   "metadata": {},
   "outputs": [
    {
     "name": "stdout",
     "output_type": "stream",
     "text": [
      "Model: \"sequential\"\n",
      "_________________________________________________________________\n",
      "Layer (type)                 Output Shape              Param #   \n",
      "=================================================================\n",
      "embedding (Embedding)        (None, 18371, 10)         183710    \n",
      "_________________________________________________________________\n",
      "flatten (Flatten)            (None, 183710)            0         \n",
      "_________________________________________________________________\n",
      "dense (Dense)                (None, 128)               23515008  \n",
      "_________________________________________________________________\n",
      "dense_1 (Dense)              (None, 10)                1290      \n",
      "=================================================================\n",
      "Total params: 23,700,008\n",
      "Trainable params: 23,700,008\n",
      "Non-trainable params: 0\n",
      "_________________________________________________________________\n"
     ]
    }
   ],
   "source": [
    "vocab_size = len(vectorizer.vocabulary_)\n",
    "\n",
    "nlp_model = keras.Sequential()\n",
    "nlp_model.add(keras.layers.Embedding(\n",
    "    input_dim=vocab_size,\n",
    "    output_dim=10,\n",
    "    input_length=vocab_size))\n",
    "nlp_model.add(keras.layers.Flatten())\n",
    "nlp_model.add(keras.layers.Dense(128, activation=tf.nn.relu))\n",
    "nlp_model.add(keras.layers.Dense(len(store_references_filtered['fn'].unique()), activation=tf.nn.softmax))\n",
    "nlp_model.summary()\n"
   ]
  },
  {
   "cell_type": "code",
   "execution_count": 30,
   "metadata": {},
   "outputs": [],
   "source": [
    "nlp_model.compile(optimizer='adam',\n",
    "                  loss='sparse_categorical_crossentropy',\n",
    "                  metrics=['accuracy'])"
   ]
  },
  {
   "cell_type": "code",
   "execution_count": 31,
   "metadata": {},
   "outputs": [],
   "source": [
    "train_size = int(train_data.shape[0] * 2 / 3)"
   ]
  },
  {
   "cell_type": "code",
   "execution_count": 32,
   "metadata": {},
   "outputs": [],
   "source": [
    "x_val = train_data[train_size:]\n",
    "partial_x_train = train_data[:train_size]\n",
    "\n",
    "y_val = train_labels[train_size:].values\n",
    "partial_y_train = train_labels[:train_size].values"
   ]
  },
  {
   "cell_type": "code",
   "execution_count": 33,
   "metadata": {},
   "outputs": [
    {
     "data": {
      "text/plain": [
       "array([[2],\n",
       "       [5],\n",
       "       [8],\n",
       "       ...,\n",
       "       [1],\n",
       "       [8],\n",
       "       [6]], dtype=int8)"
      ]
     },
     "execution_count": 33,
     "metadata": {},
     "output_type": "execute_result"
    }
   ],
   "source": [
    "partial_y_train"
   ]
  },
  {
   "cell_type": "code",
   "execution_count": 34,
   "metadata": {},
   "outputs": [
    {
     "name": "stdout",
     "output_type": "stream",
     "text": [
      "Train on 101215 samples, validate on 50608 samples\n",
      "Epoch 1/5\n",
      "101215/101215 [==============================] - 330s 3ms/sample - loss: 2.0924 - accuracy: 0.2701 - val_loss: 1.6921 - val_accuracy: 0.5006\n",
      "Epoch 2/5\n",
      "101215/101215 [==============================] - 328s 3ms/sample - loss: 1.1019 - accuracy: 0.6731 - val_loss: 0.6774 - val_accuracy: 0.8011\n",
      "Epoch 3/5\n",
      "101215/101215 [==============================] - 328s 3ms/sample - loss: 0.5220 - accuracy: 0.8511 - val_loss: 0.4298 - val_accuracy: 0.8727\n",
      "Epoch 4/5\n",
      "101215/101215 [==============================] - 328s 3ms/sample - loss: 0.3622 - accuracy: 0.8941 - val_loss: 0.3435 - val_accuracy: 0.8932\n",
      "Epoch 5/5\n",
      "101215/101215 [==============================] - 326s 3ms/sample - loss: 0.2912 - accuracy: 0.9137 - val_loss: 0.3017 - val_accuracy: 0.9096\n"
     ]
    }
   ],
   "source": [
    "history = nlp_model.fit(partial_x_train,\n",
    "                        partial_y_train,\n",
    "                        epochs=5,\n",
    "                        batch_size=512,\n",
    "                        validation_data=(x_val, y_val),\n",
    "                        verbose=1)"
   ]
  },
  {
   "cell_type": "code",
   "execution_count": 35,
   "metadata": {},
   "outputs": [
    {
     "name": "stdout",
     "output_type": "stream",
     "text": [
      "74779/74779 [==============================] - 52s 690us/sample - loss: 0.3077 - accuracy: 0.9075\n",
      "[0.30774461301332695, 0.90746063]\n"
     ]
    }
   ],
   "source": [
    "results = nlp_model.evaluate(test_data, test_labels)\n",
    "\n",
    "print(results)"
   ]
  },
  {
   "cell_type": "markdown",
   "metadata": {},
   "source": [
    "### Simple classification using SVM"
   ]
  },
  {
   "cell_type": "code",
   "execution_count": 36,
   "metadata": {},
   "outputs": [
    {
     "name": "stderr",
     "output_type": "stream",
     "text": [
      "/home/admin/.pyenv/versions/3.4.1/envs/notification-engine/lib/python3.4/site-packages/sklearn/utils/validation.py:526: DataConversionWarning: A column-vector y was passed when a 1d array was expected. Please change the shape of y to (n_samples, ), for example using ravel().\n",
      "  y = column_or_1d(y, warn=True)\n"
     ]
    },
    {
     "data": {
      "text/plain": [
       "LinearSVC(C=1.0, class_weight=None, dual=True, fit_intercept=True,\n",
       "     intercept_scaling=1, loss='squared_hinge', max_iter=1000,\n",
       "     multi_class='ovr', penalty='l2', random_state=None, tol=0.0001,\n",
       "     verbose=0)"
      ]
     },
     "execution_count": 36,
     "metadata": {},
     "output_type": "execute_result"
    }
   ],
   "source": [
    "from sklearn import svm\n",
    "lin_clf = svm.LinearSVC()\n",
    "lin_clf.fit(train_data, train_labels)"
   ]
  },
  {
   "cell_type": "code",
   "execution_count": 37,
   "metadata": {},
   "outputs": [],
   "source": [
    "test_pred = lin_clf.predict(test_data)"
   ]
  },
  {
   "cell_type": "code",
   "execution_count": 38,
   "metadata": {},
   "outputs": [
    {
     "data": {
      "text/plain": [
       "0.9271319488091576"
      ]
     },
     "execution_count": 38,
     "metadata": {},
     "output_type": "execute_result"
    }
   ],
   "source": [
    "from sklearn.metrics import accuracy_score\n",
    "accuracy_score(test_labels, test_pred)"
   ]
  },
  {
   "cell_type": "markdown",
   "metadata": {},
   "source": [
    "### Deep learning classification using images"
   ]
  },
  {
   "cell_type": "markdown",
   "metadata": {},
   "source": [
    "#### Plot the images"
   ]
  },
  {
   "cell_type": "code",
   "execution_count": 39,
   "metadata": {},
   "outputs": [],
   "source": [
    "import matplotlib.pyplot as plt"
   ]
  },
  {
   "cell_type": "code",
   "execution_count": 40,
   "metadata": {},
   "outputs": [
    {
     "data": {
      "image/png": "[encoded data removed]",
      "text/plain": [
       "<matplotlib.figure.Figure at 0x7f4faaf4a0b8>"
      ]
     },
     "metadata": {
      "needs_background": "light"
     },
     "output_type": "display_data"
    }
   ],
   "source": [
    "img = cv2.imread(images_files[1])\n",
    "plt.figure()\n",
    "plt.imshow(cv2.resize(img, (256, 256)), cmap=plt.cm.binary)\n",
    "plt.colorbar()\n",
    "plt.grid(False)\n",
    "plt.show()"
   ]
  },
  {
   "cell_type": "code",
   "execution_count": 41,
   "metadata": {},
   "outputs": [],
   "source": [
    "def generate_arrays_from_file(df):\n",
    "    while True:\n",
    "        for i, row in df.iterrows():\n",
    "            image = get_image_array(i)\n",
    "            print(image.shape)\n",
    "            \n",
    "            if len(image):\n",
    "                yield (image, row['fn'])\n",
    "            else:\n",
    "                continue"
   ]
  },
  {
   "cell_type": "code",
   "execution_count": null,
   "metadata": {},
   "outputs": [],
   "source": [
    "# This part was used when all the picture could fit in memory\n",
    "\n",
    "# images = pd.np.array([get_image_array(i) for i, row in store_references_filtered.iterrows()])\n",
    "# store_references_filtered['image'] = store_references_filtered.index.map(get_image_array)"
   ]
  },
  {
   "cell_type": "code",
   "execution_count": 42,
   "metadata": {},
   "outputs": [
    {
     "data": {
      "image/png": "[encoded data removed]",
      "text/plain": [
       "<matplotlib.figure.Figure at 0x7f4faaf062e8>"
      ]
     },
     "metadata": {
      "needs_background": "light"
     },
     "output_type": "display_data"
    }
   ],
   "source": [
    "img = get_image_array(store_references_filtered.index[2])\n",
    "plt.figure()\n",
    "plt.imshow(img, cmap=plt.cm.binary)\n",
    "plt.colorbar()\n",
    "plt.grid(False)\n",
    "plt.show()"
   ]
  },
  {
   "cell_type": "markdown",
   "metadata": {},
   "source": [
    "#### Init the model"
   ]
  },
  {
   "cell_type": "code",
   "execution_count": 43,
   "metadata": {},
   "outputs": [
    {
     "name": "stderr",
     "output_type": "stream",
     "text": [
      "Using TensorFlow backend.\n"
     ]
    }
   ],
   "source": [
    "import keras.utils.vis_utils as vutils\n",
    "from keras_preprocessing.image import ImageDataGenerator\n",
    "from IPython.display import SVG"
   ]
  },
  {
   "cell_type": "code",
   "execution_count": 44,
   "metadata": {},
   "outputs": [
    {
     "data": {
      "image/png": "[encoded data removed]",
      "text/plain": [
       "<matplotlib.figure.Figure at 0x7f4fa5480d30>"
      ]
     },
     "metadata": {},
     "output_type": "display_data"
    }
   ],
   "source": [
    "plt.figure(figsize=(10,10))\n",
    "for i in range(25):\n",
    "    plt.subplot(5,5,i+1)\n",
    "    plt.xticks([])\n",
    "    plt.yticks([])\n",
    "    plt.grid(False)\n",
    "    plt.imshow(get_image_array(store_references_filtered.index[i]), cmap=plt.cm.binary)\n",
    "    plt.xlabel(store_references_filtered['first_node'].iloc[i])\n",
    "plt.show()"
   ]
  },
  {
   "cell_type": "code",
   "execution_count": 45,
   "metadata": {},
   "outputs": [],
   "source": [
    "simple_model = keras.Sequential([\n",
    "    keras.layers.Conv2D(6, (5, 5), activation='relu', input_shape=(IMAGE_SHAPE[0], IMAGE_SHAPE[1], 3)),\n",
    "    keras.layers.Conv2D(16, (5, 5), activation='relu'),\n",
    "    keras.layers.Flatten(),\n",
    "    keras.layers.Dense(len(store_references_filtered.fn.unique()), activation=tf.nn.softmax)\n",
    "])\n",
    "# SVG(vutils.model_to_dot(simple_model).create(prog='dot', format='svg'))"
   ]
  },
  {
   "cell_type": "code",
   "execution_count": 46,
   "metadata": {},
   "outputs": [],
   "source": [
    "complex_model = keras.Sequential([\n",
    "    keras.layers.Conv2D(32, (3, 3), activation='relu', input_shape=(IMAGE_SHAPE[0], IMAGE_SHAPE[1], 3)),\n",
    "    keras.layers.MaxPooling2D(pool_size=(2, 2)),\n",
    "    keras.layers.Conv2D(32, (3, 3), activation='relu'),\n",
    "    keras.layers.MaxPooling2D(pool_size=(2, 2)),\n",
    "    keras.layers.Dropout(0.25),\n",
    "    keras.layers.Flatten(),\n",
    "    keras.layers.Dense(128, activation=tf.nn.relu),\n",
    "    keras.layers.Dropout(0.25),    \n",
    "    keras.layers.Dense(len(store_references_filtered.fn.unique()), activation=tf.nn.softmax)\n",
    "])\n",
    "# SVG(vutils.model_to_dot(complex_model).create(prog='dot', format='svg'))"
   ]
  },
  {
   "cell_type": "code",
   "execution_count": 47,
   "metadata": {},
   "outputs": [],
   "source": [
    "simple_model.compile(optimizer='adam', \n",
    "                     loss='sparse_categorical_crossentropy',\n",
    "                     metrics=['accuracy'])\n",
    "complex_model.compile(optimizer='adam', \n",
    "                      loss='sparse_categorical_crossentropy',\n",
    "                      metrics=['accuracy'])"
   ]
  },
  {
   "cell_type": "code",
   "execution_count": 55,
   "metadata": {},
   "outputs": [
    {
     "name": "stdout",
     "output_type": "stream",
     "text": [
      "Found 113868 images.\n",
      "Found 37955 images.\n",
      "Found 74779 images.\n"
     ]
    }
   ],
   "source": [
    "# train_images = np.stack(X_train['image'].values)\n",
    "# test_images = np.stack(X_test['image'].values)\n",
    "train_datagen = ImageDataGenerator(\n",
    "    rescale=1./255,\n",
    "    validation_split=0.25)\n",
    "\n",
    "train_generator=train_datagen.flow_from_dataframe(\n",
    "    dataframe=X_train,\n",
    "    directory=IMAGE_FOLDER,\n",
    "    x_col=\"filepath\",\n",
    "    y_col=\"fn\",\n",
    "    subset=\"training\",\n",
    "    seed=42,\n",
    "    shuffle=True,\n",
    "    class_mode=\"other\",\n",
    "    target_size=IMAGE_SHAPE,\n",
    "    batch_size=32,\n",
    "    \n",
    ")\n",
    "\n",
    "validation_generator=train_datagen.flow_from_dataframe(\n",
    "    dataframe=X_train,\n",
    "    directory=IMAGE_FOLDER,\n",
    "    x_col=\"filepath\",\n",
    "    y_col=\"fn\",\n",
    "    subset=\"validation\",\n",
    "    seed=42,\n",
    "    shuffle=True,\n",
    "    class_mode=\"other\",\n",
    "    target_size=IMAGE_SHAPE,\n",
    "    batch_size=32,\n",
    ")\n",
    "\n",
    "test_datagen = ImageDataGenerator(\n",
    "    rescale=1./255\n",
    ")\n",
    "\n",
    "test_generator=test_datagen.flow_from_dataframe(\n",
    "    dataframe=X_test,\n",
    "    directory=IMAGE_FOLDER,\n",
    "    x_col=\"filepath\",\n",
    "    y_col=\"fn\",\n",
    "    shuffle=False,\n",
    "    seed=42,\n",
    "    save_to_dir=os.path.join(IMAGE_FOLDER, \"test_processed\"),\n",
    "    class_mode=\"other\",\n",
    "    target_size=IMAGE_SHAPE,\n",
    "    batch_size=32\n",
    ")"
   ]
  },
  {
   "cell_type": "code",
   "execution_count": 56,
   "metadata": {},
   "outputs": [],
   "source": [
    "def my_gen(gen):\n",
    "    while True:\n",
    "        try:\n",
    "            data, labels = next(gen)\n",
    "            yield data, labels\n",
    "        except:\n",
    "            pass"
   ]
  },
  {
   "cell_type": "code",
   "execution_count": 57,
   "metadata": {},
   "outputs": [],
   "source": [
    "STEP_SIZE_TRAIN=train_generator.n//train_generator.batch_size\n",
    "STEP_SIZE_VALID=validation_generator.n//validation_generator.batch_size\n",
    "STEP_SIZE_TEST=test_generator.n//test_generator.batch_size"
   ]
  },
  {
   "cell_type": "code",
   "execution_count": 58,
   "metadata": {},
   "outputs": [
    {
     "name": "stdout",
     "output_type": "stream",
     "text": [
      "Epoch 1/5\n",
      "3558/3558 [==============================] - 816s 229ms/step - loss: 1.6242 - accuracy: 0.4335 - val_loss: 1.4896 - val_accuracy: 0.4898\n",
      "Epoch 2/5\n",
      "3558/3558 [==============================] - 821s 231ms/step - loss: 1.3660 - accuracy: 0.5285 - val_loss: 1.3729 - val_accuracy: 0.5294\n",
      "Epoch 3/5\n",
      "3558/3558 [==============================] - 817s 230ms/step - loss: 1.2448 - accuracy: 0.5728 - val_loss: 1.3604 - val_accuracy: 0.5418\n",
      "Epoch 4/5\n",
      "3558/3558 [==============================] - 816s 229ms/step - loss: 1.1707 - accuracy: 0.5984 - val_loss: 1.3409 - val_accuracy: 0.5490\n",
      "Epoch 5/5\n",
      "3558/3558 [==============================] - 807s 227ms/step - loss: 1.1141 - accuracy: 0.6170 - val_loss: 1.3647 - val_accuracy: 0.5499\n"
     ]
    },
    {
     "data": {
      "text/plain": [
       "<tensorflow.python.keras.callbacks.History at 0x7f4f281369e8>"
      ]
     },
     "execution_count": 58,
     "metadata": {},
     "output_type": "execute_result"
    }
   ],
   "source": [
    "simple_model.fit_generator(\n",
    "    train_generator,\n",
    "    steps_per_epoch=STEP_SIZE_TRAIN,\n",
    "    validation_data=validation_generator,\n",
    "    validation_steps=STEP_SIZE_VALID,\n",
    "    epochs=5,\n",
    "    use_multiprocessing=True\n",
    ")"
   ]
  },
  {
   "cell_type": "code",
   "execution_count": 59,
   "metadata": {},
   "outputs": [
    {
     "data": {
      "text/plain": [
       "[1.3647009288078618, 0.5498788]"
      ]
     },
     "execution_count": 59,
     "metadata": {},
     "output_type": "execute_result"
    }
   ],
   "source": [
    "simple_model.evaluate_generator(\n",
    "    generator=validation_generator,\n",
    "    steps=STEP_SIZE_VALID,\n",
    "    use_multiprocessing=True\n",
    ")"
   ]
  },
  {
   "cell_type": "code",
   "execution_count": 60,
   "metadata": {},
   "outputs": [
    {
     "data": {
      "text/plain": [
       "[1.3816910503202513, 0.5449219]"
      ]
     },
     "execution_count": 60,
     "metadata": {},
     "output_type": "execute_result"
    }
   ],
   "source": [
    "simple_model.evaluate_generator(\n",
    "    generator=test_generator,\n",
    "    steps=STEP_SIZE_TEST,\n",
    "    use_multiprocessing=True\n",
    ")"
   ]
  },
  {
   "cell_type": "code",
   "execution_count": 61,
   "metadata": {},
   "outputs": [
    {
     "name": "stdout",
     "output_type": "stream",
     "text": [
      "Epoch 1/5\n",
      "3558/3558 [==============================] - 821s 231ms/step - loss: 1.6401 - accuracy: 0.4240 - val_loss: 1.3895 - val_accuracy: 0.5159\n",
      "Epoch 2/5\n",
      "3558/3558 [==============================] - 814s 229ms/step - loss: 1.4073 - accuracy: 0.5106 - val_loss: 1.2670 - val_accuracy: 0.5678\n",
      "Epoch 3/5\n",
      "3558/3558 [==============================] - 817s 230ms/step - loss: 1.3092 - accuracy: 0.5459 - val_loss: 1.1877 - val_accuracy: 0.5940\n",
      "Epoch 4/5\n",
      "3558/3558 [==============================] - 810s 228ms/step - loss: 1.2461 - accuracy: 0.5701 - val_loss: 1.1414 - val_accuracy: 0.6092\n",
      "Epoch 5/5\n",
      "3558/3558 [==============================] - 811s 228ms/step - loss: 1.1997 - accuracy: 0.5860 - val_loss: 1.1542 - val_accuracy: 0.6086\n"
     ]
    },
    {
     "data": {
      "text/plain": [
       "<tensorflow.python.keras.callbacks.History at 0x7f4fa8ff8e48>"
      ]
     },
     "execution_count": 61,
     "metadata": {},
     "output_type": "execute_result"
    }
   ],
   "source": [
    "complex_model.fit_generator(\n",
    "    train_generator,\n",
    "    steps_per_epoch=STEP_SIZE_TRAIN,\n",
    "    validation_data=validation_generator,\n",
    "    validation_steps=STEP_SIZE_VALID,\n",
    "    epochs=5,\n",
    "    use_multiprocessing=True\n",
    ")"
   ]
  },
  {
   "cell_type": "code",
   "execution_count": null,
   "metadata": {},
   "outputs": [],
   "source": [
    "complex_model.evaluate_generator(\n",
    "    generator=validation_generator,\n",
    "    steps=STEP_SIZE_VALID,\n",
    "    use_multiprocessing=True\n",
    ")"
   ]
  },
  {
   "cell_type": "code",
   "execution_count": null,
   "metadata": {},
   "outputs": [],
   "source": [
    "complex_model.evaluate_generator(\n",
    "    generator=test_generator,\n",
    "    steps=STEP_SIZE_TEST,\n",
    "    use_multiprocessing=True\n",
    ")"
   ]
  },
  {
   "cell_type": "markdown",
   "metadata": {},
   "source": [
    "#### Global results"
   ]
  },
  {
   "cell_type": "markdown",
   "metadata": {},
   "source": [
    "Results for dimension 32 x 32\n",
    "```\n",
    "simple    5 epoch: 0.5449219\n",
    "complex   5 epoch: \n",
    "```\n",
    "\n",
    "Results for dimension 64 x 64\n",
    "```\n",
    "simple    5 epoch: 0.6521547\n",
    "complex   5 epoch: 0.7081523\n",
    "complex  20 epoch: 0.7815187\n",
    "complex 100 epoch: 0.8111888\n",
    "```\n",
    "\n",
    "Results for dimension 128 x 128\n",
    "```\n",
    "simple    5 epoch: 0.7196597\n",
    "complex   5 epoch: \n",
    "complex  20 epoch: \n",
    "complex 100 epoch: \n",
    "```"
   ]
  },
  {
   "cell_type": "markdown",
   "metadata": {},
   "source": [
    "### Complexify the ImageDataGenerator"
   ]
  },
  {
   "cell_type": "code",
   "execution_count": null,
   "metadata": {},
   "outputs": [],
   "source": [
    "new_args = dict(shear_range=0.2,\n",
    "                zoom_range=0.3,\n",
    "                rotation_range=180,\n",
    "                width_shift_range=0.2,\n",
    "                height_shift_range=0.2,\n",
    "                horizontal_flip=False,\n",
    "                vertical_flip=True)"
   ]
  },
  {
   "cell_type": "markdown",
   "metadata": {},
   "source": [
    "### Combine NLP and Image model"
   ]
  },
  {
   "cell_type": "code",
   "execution_count": 64,
   "metadata": {},
   "outputs": [],
   "source": [
    "from tensorflow.keras.layers import concatenate\n",
    "from tensorflow.keras.models import Model"
   ]
  },
  {
   "cell_type": "code",
   "execution_count": 65,
   "metadata": {
    "scrolled": true
   },
   "outputs": [],
   "source": [
    "# combine the output of the two branches\n",
    "combined = concatenate([nlp_model.output, simple_model.output])"
   ]
  },
  {
   "cell_type": "code",
   "execution_count": 66,
   "metadata": {},
   "outputs": [],
   "source": [
    "mixed_model = keras.layers.Dense(len(store_references_filtered.first_node.unique()), activation=tf.nn.relu)(combined)\n",
    "mixed_model = keras.layers.Dense(len(store_references_filtered.first_node.unique()), activation=tf.nn.softmax)(mixed_model)\n",
    " \n",
    "# our model will accept the inputs of the two branches and\n",
    "# then output a single value\n",
    "model = Model(inputs=[nlp_model.input, simple_model.input], outputs=mixed_model)"
   ]
  },
  {
   "cell_type": "code",
   "execution_count": 67,
   "metadata": {},
   "outputs": [],
   "source": [
    "model.compile(optimizer='adam', \n",
    "              loss='sparse_categorical_crossentropy',\n",
    "              metrics=['accuracy'])"
   ]
  },
  {
   "cell_type": "code",
   "execution_count": null,
   "metadata": {},
   "outputs": [],
   "source": [
    "from keras.preprocessing import image as krs_image\n",
    "datagen = ImageDataGenerator()\n",
    "data_gen_args = dict(\n",
    "    rescale=1. / 255\n",
    ")\n",
    "def custom_generator(df, batch_size):\n",
    "    i = 0\n",
    "    while True:\n",
    "        batch = {'images': [], 'labels': [], 'categories': []}\n",
    "        for b in range(batch_size):\n",
    "            if i == len(df):\n",
    "                i = 0\n",
    "                df = df.sample(frac=1)\n",
    "\n",
    "            row = df.iloc[i]\n",
    "\n",
    "            image_path = row['filepath']\n",
    "            label = row['label']\n",
    "            category = row['fn']\n",
    "            row.drop(labels='fn')\n",
    "\n",
    "            # Process image\n",
    "            image = krs_image.load_img(image_path, target_size=IMAGE_SHAPE)\n",
    "            image = datagen.apply_transform(image, data_gen_args)\n",
    "            image = krs_image.img_to_array(image)\n",
    "\n",
    "            # Process label\n",
    "            label = vectorizer.transform([label]).toarray()[0]\n",
    "\n",
    "            batch['images'].append(image)\n",
    "            batch['labels'].append(label)\n",
    "            batch['categories'].append(category)\n",
    "\n",
    "            i += 1\n",
    "\n",
    "        batch['images'] = np.array(batch['images'])\n",
    "        batch['labels'] = np.array(batch['labels'])\n",
    "\n",
    "        # Convert labels to categorical values\n",
    "        # batch['labels'] = np.eye(num_classes)[batch['labels']]\n",
    "        batch['categories'] = np.array(batch['categories'])\n",
    "        \n",
    "        yield [batch['labels'], batch['images']], batch['categories']"
   ]
  },
  {
   "cell_type": "code",
   "execution_count": null,
   "metadata": {},
   "outputs": [
    {
     "name": "stdout",
     "output_type": "stream",
     "text": [
      "Epoch 1/5\n",
      "3558/3558 [==============================] - 626s 176ms/step - loss: 0.5839 - accuracy: 0.8334\n",
      "Epoch 2/5\n",
      "3558/3558 [==============================] - 627s 176ms/step - loss: 0.2934 - accuracy: 0.9159\n",
      "Epoch 3/5\n",
      "1397/3558 [==========>...................] - ETA: 6:20 - loss: 0.2456 - accuracy: 0.9298"
     ]
    }
   ],
   "source": [
    "custom_gen = custom_generator(df=X_train, batch_size=32)\n",
    "\n",
    "model.fit_generator(\n",
    "    custom_gen,\n",
    "    steps_per_epoch=STEP_SIZE_TRAIN,\n",
    "    epochs=5,\n",
    "    use_multiprocessing=True\n",
    ")"
   ]
  },
  {
   "cell_type": "code",
   "execution_count": null,
   "metadata": {},
   "outputs": [],
   "source": [
    "custom_test_gen = custom_generator(df=X_test, batch_size=32)\n",
    "model.evaluate_generator(\n",
    "    generator=custom_test_gen,\n",
    "    steps=STEP_SIZE_TEST,\n",
    "    use_multiprocessing=True\n",
    ")"
   ]
  },
  {
   "cell_type": "markdown",
   "metadata": {},
   "source": [
    "```\n",
    "5 epochs\n",
    "simple  (32, 32): 0.930343\n",
    "simple  (64, 64): 0.925353\n",
    "complex (32, 32): 0.9292059\n",
    "\n",
    "10 epochs\n",
    "complex (32, 32): 0.92148703\n",
    "```"
   ]
  },
  {
   "cell_type": "code",
   "execution_count": null,
   "metadata": {},
   "outputs": [],
   "source": [
    "import threading\n",
    "datagen = ImageDataGenerator()\n",
    "data_gen_args = dict(\n",
    "    rescale=1. / 255\n",
    ")\n",
    "class ProductSequence(keras.utils.Sequence):\n",
    "    def __init__(self, df, batch_size):\n",
    "        self.df = df\n",
    "        self.batch_size = batch_size\n",
    "        self.lock = threading.Lock()\n",
    "\n",
    "    def __len__(self):\n",
    "        return int(np.ceil(len(self.df) / float(self.batch_size)))\n",
    "\n",
    "    def __getitem__(self, idx):\n",
    "        with self.lock:\n",
    "            i = idx * self.batch_size\n",
    "            batch = {'images': [], 'labels': [], 'categories': []}\n",
    "            for b in range(self.batch_size):\n",
    "                if i == len(self.df):\n",
    "                    i = 0\n",
    "                    self.df = self.df.sample(frac=1)\n",
    "\n",
    "                row = self.df.iloc[i]\n",
    "\n",
    "                image_path = row['filepath']\n",
    "                label = row['label']\n",
    "                category = row['fn']\n",
    "                row.drop(labels='fn')\n",
    "\n",
    "                # Process image\n",
    "                image = krs_image.load_img(image_path, target_size=IMAGE_SHAPE)\n",
    "                image = datagen.apply_transform(image, data_gen_args)\n",
    "                image = krs_image.img_to_array(image)\n",
    "\n",
    "                # Process label\n",
    "                label = vectorizer.transform([label]).toarray()[0]\n",
    "\n",
    "                batch['images'].append(image)\n",
    "                batch['labels'].append(label)\n",
    "                batch['categories'].append(category)\n",
    "\n",
    "                i += 1\n",
    "\n",
    "            batch['images'] = np.array(batch['images'])\n",
    "            batch['labels'] = np.array(batch['labels'])\n",
    "\n",
    "            # Convert labels to categorical values\n",
    "            # batch['labels'] = np.eye(num_classes)[batch['labels']]\n",
    "            batch['categories'] = np.array(batch['categories'])\n",
    "\n",
    "            return [batch['labels'], batch['images']], batch['categories']"
   ]
  },
  {
   "cell_type": "code",
   "execution_count": null,
   "metadata": {},
   "outputs": [],
   "source": [
    "sq = ProductSequence(df=X_train , batch_size=32)"
   ]
  },
  {
   "cell_type": "code",
   "execution_count": null,
   "metadata": {},
   "outputs": [],
   "source": [
    "model.fit_generator(\n",
    "    sq,\n",
    "    steps_per_epoch=STEP_SIZE_TRAIN,\n",
    "    epochs=5,\n",
    "    use_multiprocessing=True\n",
    ")"
   ]
  },
  {
   "cell_type": "code",
   "execution_count": null,
   "metadata": {},
   "outputs": [],
   "source": [
    "sq_test = ProductSequence(df=X_test , batch_size=32)\n",
    "model.evaluate_generator(\n",
    "    generator=sq_test,\n",
    "    steps=STEP_SIZE_TEST,\n",
    "    workers=8\n",
    ")"
   ]
  },
  {
   "cell_type": "code",
   "execution_count": null,
   "metadata": {},
   "outputs": [],
   "source": []
  }
 ],
 "metadata": {
  "kernelspec": {
   "display_name": "Python 3",
   "language": "python",
   "name": "python3"
  },
  "language_info": {
   "codemirror_mode": {
    "name": "ipython",
    "version": 3
   },
   "file_extension": ".py",
   "mimetype": "text/x-python",
   "name": "python",
   "nbconvert_exporter": "python",
   "pygments_lexer": "ipython3",
   "version": "3.4.1"
  }
 },
 "nbformat": 4,
 "nbformat_minor": 2
}
